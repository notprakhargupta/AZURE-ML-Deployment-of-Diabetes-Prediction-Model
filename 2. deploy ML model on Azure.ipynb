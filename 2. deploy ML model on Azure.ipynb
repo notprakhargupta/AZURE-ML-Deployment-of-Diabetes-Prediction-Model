{
 "cells": [
  {
   "cell_type": "code",
   "execution_count": 2,
   "id": "b426e606-d061-43c8-9b3b-328eac49e65d",
   "metadata": {},
   "outputs": [
    {
     "name": "stdout",
     "output_type": "stream",
     "text": [
      "Requirement already satisfied: azureml-sdk in /home/sid23/jupyter/environment/lib/python3.10/site-packages (1.54.0)\n",
      "Requirement already satisfied: azureml-core~=1.54.0 in /home/sid23/jupyter/environment/lib/python3.10/site-packages (from azureml-sdk) (1.54.0.post1)\n",
      "Requirement already satisfied: azureml-dataset-runtime~=1.54.0 in /home/sid23/jupyter/environment/lib/python3.10/site-packages (from azureml-dataset-runtime[fuse]~=1.54.0->azureml-sdk) (1.54.0.post1)\n",
      "Requirement already satisfied: azureml-train-core~=1.54.0 in /home/sid23/jupyter/environment/lib/python3.10/site-packages (from azureml-sdk) (1.54.0)\n",
      "Requirement already satisfied: azureml-train-automl-client~=1.54.0 in /home/sid23/jupyter/environment/lib/python3.10/site-packages (from azureml-sdk) (1.54.0.post1)\n",
      "Requirement already satisfied: azureml-pipeline~=1.54.0 in /home/sid23/jupyter/environment/lib/python3.10/site-packages (from azureml-sdk) (1.54.0)\n",
      "Requirement already satisfied: pytz in /home/sid23/jupyter/environment/lib/python3.10/site-packages (from azureml-core~=1.54.0->azureml-sdk) (2023.3.post1)\n",
      "Requirement already satisfied: backports.tempfile in /home/sid23/jupyter/environment/lib/python3.10/site-packages (from azureml-core~=1.54.0->azureml-sdk) (1.0)\n",
      "Requirement already satisfied: pathspec<1.0.0 in /home/sid23/jupyter/environment/lib/python3.10/site-packages (from azureml-core~=1.54.0->azureml-sdk) (0.12.1)\n",
      "Requirement already satisfied: requests<3.0.0,>=2.19.1 in /home/sid23/jupyter/environment/lib/python3.10/site-packages (from requests[socks]<3.0.0,>=2.19.1->azureml-core~=1.54.0->azureml-sdk) (2.31.0)\n",
      "Requirement already satisfied: msal<2.0.0,>=1.15.0 in /home/sid23/jupyter/environment/lib/python3.10/site-packages (from azureml-core~=1.54.0->azureml-sdk) (1.26.0)\n",
      "Requirement already satisfied: msal-extensions<=1.0.0,>=0.3.0 in /home/sid23/jupyter/environment/lib/python3.10/site-packages (from azureml-core~=1.54.0->azureml-sdk) (1.0.0)\n",
      "Requirement already satisfied: knack<0.12.0 in /home/sid23/jupyter/environment/lib/python3.10/site-packages (from azureml-core~=1.54.0->azureml-sdk) (0.11.0)\n",
      "Requirement already satisfied: azure-core<2.0.0 in /home/sid23/jupyter/environment/lib/python3.10/site-packages (from azureml-core~=1.54.0->azureml-sdk) (1.29.6)\n",
      "Requirement already satisfied: pkginfo in /home/sid23/jupyter/environment/lib/python3.10/site-packages (from azureml-core~=1.54.0->azureml-sdk) (1.9.6)\n",
      "Requirement already satisfied: argcomplete<4 in /home/sid23/jupyter/environment/lib/python3.10/site-packages (from azureml-core~=1.54.0->azureml-sdk) (3.2.1)\n",
      "Requirement already satisfied: humanfriendly<11.0,>=4.7 in /home/sid23/jupyter/environment/lib/python3.10/site-packages (from azureml-core~=1.54.0->azureml-sdk) (10.0)\n",
      "Requirement already satisfied: paramiko<4.0.0,>=2.0.8 in /home/sid23/jupyter/environment/lib/python3.10/site-packages (from azureml-core~=1.54.0->azureml-sdk) (3.4.0)\n",
      "Requirement already satisfied: azure-mgmt-resource<=24.0.0,>=15.0.0 in /home/sid23/jupyter/environment/lib/python3.10/site-packages (from azureml-core~=1.54.0->azureml-sdk) (23.0.1)\n",
      "Requirement already satisfied: azure-mgmt-containerregistry<11,>=8.2.0 in /home/sid23/jupyter/environment/lib/python3.10/site-packages (from azureml-core~=1.54.0->azureml-sdk) (10.3.0)\n",
      "Requirement already satisfied: azure-mgmt-storage<=22.0.0,>=16.0.0 in /home/sid23/jupyter/environment/lib/python3.10/site-packages (from azureml-core~=1.54.0->azureml-sdk) (21.1.0)\n",
      "Requirement already satisfied: azure-mgmt-keyvault<11.0.0,>=0.40.0 in /home/sid23/jupyter/environment/lib/python3.10/site-packages (from azureml-core~=1.54.0->azureml-sdk) (10.3.0)\n",
      "Requirement already satisfied: azure-mgmt-authorization<5,>=0.40.0 in /home/sid23/jupyter/environment/lib/python3.10/site-packages (from azureml-core~=1.54.0->azureml-sdk) (4.0.0)\n",
      "Requirement already satisfied: azure-mgmt-network==25.1.0 in /home/sid23/jupyter/environment/lib/python3.10/site-packages (from azureml-core~=1.54.0->azureml-sdk) (25.1.0)\n",
      "Requirement already satisfied: azure-graphrbac<1.0.0,>=0.40.0 in /home/sid23/jupyter/environment/lib/python3.10/site-packages (from azureml-core~=1.54.0->azureml-sdk) (0.61.1)\n",
      "Requirement already satisfied: azure-common<2.0.0,>=1.1.12 in /home/sid23/jupyter/environment/lib/python3.10/site-packages (from azureml-core~=1.54.0->azureml-sdk) (1.1.28)\n",
      "Requirement already satisfied: msrest<=0.7.1,>=0.5.1 in /home/sid23/jupyter/environment/lib/python3.10/site-packages (from azureml-core~=1.54.0->azureml-sdk) (0.7.1)\n",
      "Requirement already satisfied: msrestazure<=0.6.4,>=0.4.33 in /home/sid23/jupyter/environment/lib/python3.10/site-packages (from azureml-core~=1.54.0->azureml-sdk) (0.6.4)\n",
      "Requirement already satisfied: urllib3<3.0.0,>1.26.17 in /home/sid23/jupyter/environment/lib/python3.10/site-packages (from azureml-core~=1.54.0->azureml-sdk) (2.0.7)\n",
      "Requirement already satisfied: packaging<=24.0,>=20.0 in /home/sid23/jupyter/environment/lib/python3.10/site-packages (from azureml-core~=1.54.0->azureml-sdk) (23.2)\n",
      "Requirement already satisfied: python-dateutil<3.0.0,>=2.7.3 in /home/sid23/jupyter/environment/lib/python3.10/site-packages (from azureml-core~=1.54.0->azureml-sdk) (2.8.2)\n",
      "Requirement already satisfied: ndg-httpsclient<=0.5.1 in /home/sid23/jupyter/environment/lib/python3.10/site-packages (from azureml-core~=1.54.0->azureml-sdk) (0.5.1)\n",
      "Requirement already satisfied: SecretStorage<4.0.0 in /home/sid23/jupyter/environment/lib/python3.10/site-packages (from azureml-core~=1.54.0->azureml-sdk) (3.3.3)\n",
      "Requirement already satisfied: jsonpickle<4.0.0 in /home/sid23/jupyter/environment/lib/python3.10/site-packages (from azureml-core~=1.54.0->azureml-sdk) (3.0.2)\n",
      "Requirement already satisfied: contextlib2<22.0.0 in /home/sid23/jupyter/environment/lib/python3.10/site-packages (from azureml-core~=1.54.0->azureml-sdk) (21.6.0)\n",
      "Requirement already satisfied: docker<7.0.0 in /home/sid23/jupyter/environment/lib/python3.10/site-packages (from azureml-core~=1.54.0->azureml-sdk) (6.1.3)\n",
      "Requirement already satisfied: PyJWT<3.0.0 in /home/sid23/jupyter/environment/lib/python3.10/site-packages (from azureml-core~=1.54.0->azureml-sdk) (2.8.0)\n",
      "Requirement already satisfied: adal<=1.2.7,>=1.2.0 in /home/sid23/jupyter/environment/lib/python3.10/site-packages (from azureml-core~=1.54.0->azureml-sdk) (1.2.7)\n",
      "Requirement already satisfied: pyopenssl<24.0.0 in /home/sid23/jupyter/environment/lib/python3.10/site-packages (from azureml-core~=1.54.0->azureml-sdk) (23.3.0)\n",
      "Requirement already satisfied: jmespath<2.0.0 in /home/sid23/jupyter/environment/lib/python3.10/site-packages (from azureml-core~=1.54.0->azureml-sdk) (1.0.1)\n",
      "Requirement already satisfied: isodate<1.0.0,>=0.6.1 in /home/sid23/jupyter/environment/lib/python3.10/site-packages (from azure-mgmt-network==25.1.0->azureml-core~=1.54.0->azureml-sdk) (0.6.1)\n",
      "Requirement already satisfied: azure-mgmt-core<2.0.0,>=1.3.2 in /home/sid23/jupyter/environment/lib/python3.10/site-packages (from azure-mgmt-network==25.1.0->azureml-core~=1.54.0->azureml-sdk) (1.4.0)\n",
      "Requirement already satisfied: azureml-dataprep<4.14.0a,>=4.12.0a in /home/sid23/jupyter/environment/lib/python3.10/site-packages (from azureml-dataset-runtime~=1.54.0->azureml-dataset-runtime[fuse]~=1.54.0->azureml-sdk) (4.12.8)\n",
      "Requirement already satisfied: pyarrow>=0.17.0 in /home/sid23/jupyter/environment/lib/python3.10/site-packages (from azureml-dataset-runtime~=1.54.0->azureml-dataset-runtime[fuse]~=1.54.0->azureml-sdk) (14.0.2)\n",
      "Requirement already satisfied: numpy!=1.19.3,<1.24 in /home/sid23/jupyter/environment/lib/python3.10/site-packages (from azureml-dataset-runtime~=1.54.0->azureml-dataset-runtime[fuse]~=1.54.0->azureml-sdk) (1.23.5)\n",
      "Requirement already satisfied: fusepy<4.0.0,>=3.0.1 in /home/sid23/jupyter/environment/lib/python3.10/site-packages (from azureml-dataset-runtime[fuse]~=1.54.0->azureml-sdk) (3.0.1)\n",
      "Requirement already satisfied: azureml-pipeline-core~=1.54.0 in /home/sid23/jupyter/environment/lib/python3.10/site-packages (from azureml-pipeline~=1.54.0->azureml-sdk) (1.54.0)\n",
      "Requirement already satisfied: azureml-pipeline-steps~=1.54.0 in /home/sid23/jupyter/environment/lib/python3.10/site-packages (from azureml-pipeline~=1.54.0->azureml-sdk) (1.54.0)\n",
      "Requirement already satisfied: azureml-automl-core~=1.54.0 in /home/sid23/jupyter/environment/lib/python3.10/site-packages (from azureml-train-automl-client~=1.54.0->azureml-sdk) (1.54.0)\n",
      "Requirement already satisfied: azureml-telemetry~=1.54.0 in /home/sid23/jupyter/environment/lib/python3.10/site-packages (from azureml-train-automl-client~=1.54.0->azureml-sdk) (1.54.0)\n",
      "Requirement already satisfied: azureml-train-restclients-hyperdrive~=1.54.0 in /home/sid23/jupyter/environment/lib/python3.10/site-packages (from azureml-train-core~=1.54.0->azureml-sdk) (1.54.0)\n",
      "Requirement already satisfied: cryptography>=1.1.0 in /home/sid23/jupyter/environment/lib/python3.10/site-packages (from adal<=1.2.7,>=1.2.0->azureml-core~=1.54.0->azureml-sdk) (41.0.7)\n",
      "Requirement already satisfied: anyio<5.0,>=3.0 in /home/sid23/jupyter/environment/lib/python3.10/site-packages (from azure-core<2.0.0->azureml-core~=1.54.0->azureml-sdk) (4.0.0)\n",
      "Requirement already satisfied: six>=1.11.0 in /home/sid23/jupyter/environment/lib/python3.10/site-packages (from azure-core<2.0.0->azureml-core~=1.54.0->azureml-sdk) (1.16.0)\n",
      "Requirement already satisfied: typing-extensions>=4.6.0 in /home/sid23/jupyter/environment/lib/python3.10/site-packages (from azure-core<2.0.0->azureml-core~=1.54.0->azureml-sdk) (4.8.0)\n",
      "Requirement already satisfied: dotnetcore2<4.0.0,>=3.0.0 in /home/sid23/jupyter/environment/lib/python3.10/site-packages (from azureml-dataprep<4.14.0a,>=4.12.0a->azureml-dataset-runtime~=1.54.0->azureml-dataset-runtime[fuse]~=1.54.0->azureml-sdk) (3.1.23)\n",
      "Requirement already satisfied: azureml-dataprep-native<39.0.0,>=38.0.0 in /home/sid23/jupyter/environment/lib/python3.10/site-packages (from azureml-dataprep<4.14.0a,>=4.12.0a->azureml-dataset-runtime~=1.54.0->azureml-dataset-runtime[fuse]~=1.54.0->azureml-sdk) (38.0.0)\n",
      "Requirement already satisfied: azureml-dataprep-rslex~=2.19.6dev0 in /home/sid23/jupyter/environment/lib/python3.10/site-packages (from azureml-dataprep<4.14.0a,>=4.12.0a->azureml-dataset-runtime~=1.54.0->azureml-dataset-runtime[fuse]~=1.54.0->azureml-sdk) (2.19.6)\n",
      "Requirement already satisfied: cloudpickle<3.0.0,>=1.1.0 in /home/sid23/jupyter/environment/lib/python3.10/site-packages (from azureml-dataprep<4.14.0a,>=4.12.0a->azureml-dataset-runtime~=1.54.0->azureml-dataset-runtime[fuse]~=1.54.0->azureml-sdk) (2.2.1)\n",
      "Requirement already satisfied: azure-identity>=1.7.0 in /home/sid23/jupyter/environment/lib/python3.10/site-packages (from azureml-dataprep<4.14.0a,>=4.12.0a->azureml-dataset-runtime~=1.54.0->azureml-dataset-runtime[fuse]~=1.54.0->azureml-sdk) (1.15.0)\n",
      "Requirement already satisfied: jsonschema in /home/sid23/jupyter/environment/lib/python3.10/site-packages (from azureml-dataprep<4.14.0a,>=4.12.0a->azureml-dataset-runtime~=1.54.0->azureml-dataset-runtime[fuse]~=1.54.0->azureml-sdk) (4.19.2)\n",
      "Requirement already satisfied: pyyaml<7.0.0,>=5.1.0 in /home/sid23/jupyter/environment/lib/python3.10/site-packages (from azureml-dataprep<4.14.0a,>=4.12.0a->azureml-dataset-runtime~=1.54.0->azureml-dataset-runtime[fuse]~=1.54.0->azureml-sdk) (6.0.1)\n",
      "Requirement already satisfied: applicationinsights in /home/sid23/jupyter/environment/lib/python3.10/site-packages (from azureml-telemetry~=1.54.0->azureml-train-automl-client~=1.54.0->azureml-sdk) (0.11.10)\n",
      "Requirement already satisfied: websocket-client>=0.32.0 in /home/sid23/jupyter/environment/lib/python3.10/site-packages (from docker<7.0.0->azureml-core~=1.54.0->azureml-sdk) (1.6.4)\n",
      "Requirement already satisfied: pygments in /home/sid23/jupyter/environment/lib/python3.10/site-packages (from knack<0.12.0->azureml-core~=1.54.0->azureml-sdk) (2.16.1)\n",
      "Requirement already satisfied: tabulate in /home/sid23/jupyter/environment/lib/python3.10/site-packages (from knack<0.12.0->azureml-core~=1.54.0->azureml-sdk) (0.9.0)\n",
      "Requirement already satisfied: portalocker<3,>=1.0 in /home/sid23/jupyter/environment/lib/python3.10/site-packages (from msal-extensions<=1.0.0,>=0.3.0->azureml-core~=1.54.0->azureml-sdk) (2.8.2)\n",
      "Requirement already satisfied: certifi>=2017.4.17 in /home/sid23/jupyter/environment/lib/python3.10/site-packages (from msrest<=0.7.1,>=0.5.1->azureml-core~=1.54.0->azureml-sdk) (2023.7.22)\n",
      "Requirement already satisfied: requests-oauthlib>=0.5.0 in /home/sid23/jupyter/environment/lib/python3.10/site-packages (from msrest<=0.7.1,>=0.5.1->azureml-core~=1.54.0->azureml-sdk) (1.3.1)\n",
      "Requirement already satisfied: pyasn1>=0.1.1 in /home/sid23/jupyter/environment/lib/python3.10/site-packages (from ndg-httpsclient<=0.5.1->azureml-core~=1.54.0->azureml-sdk) (0.5.1)\n",
      "Requirement already satisfied: bcrypt>=3.2 in /home/sid23/jupyter/environment/lib/python3.10/site-packages (from paramiko<4.0.0,>=2.0.8->azureml-core~=1.54.0->azureml-sdk) (4.1.2)\n",
      "Requirement already satisfied: pynacl>=1.5 in /home/sid23/jupyter/environment/lib/python3.10/site-packages (from paramiko<4.0.0,>=2.0.8->azureml-core~=1.54.0->azureml-sdk) (1.5.0)\n",
      "Requirement already satisfied: charset-normalizer<4,>=2 in /home/sid23/jupyter/environment/lib/python3.10/site-packages (from requests<3.0.0,>=2.19.1->requests[socks]<3.0.0,>=2.19.1->azureml-core~=1.54.0->azureml-sdk) (3.3.1)\n",
      "Requirement already satisfied: idna<4,>=2.5 in /home/sid23/jupyter/environment/lib/python3.10/site-packages (from requests<3.0.0,>=2.19.1->requests[socks]<3.0.0,>=2.19.1->azureml-core~=1.54.0->azureml-sdk) (3.4)\n",
      "Requirement already satisfied: PySocks!=1.5.7,>=1.5.6 in /home/sid23/jupyter/environment/lib/python3.10/site-packages (from requests[socks]<3.0.0,>=2.19.1->azureml-core~=1.54.0->azureml-sdk) (1.7.1)\n",
      "Requirement already satisfied: jeepney>=0.6 in /home/sid23/jupyter/environment/lib/python3.10/site-packages (from SecretStorage<4.0.0->azureml-core~=1.54.0->azureml-sdk) (0.8.0)\n",
      "Requirement already satisfied: backports.weakref in /home/sid23/jupyter/environment/lib/python3.10/site-packages (from backports.tempfile->azureml-core~=1.54.0->azureml-sdk) (1.0.post1)\n",
      "Requirement already satisfied: sniffio>=1.1 in /home/sid23/jupyter/environment/lib/python3.10/site-packages (from anyio<5.0,>=3.0->azure-core<2.0.0->azureml-core~=1.54.0->azureml-sdk) (1.3.0)\n",
      "Requirement already satisfied: exceptiongroup>=1.0.2 in /home/sid23/jupyter/environment/lib/python3.10/site-packages (from anyio<5.0,>=3.0->azure-core<2.0.0->azureml-core~=1.54.0->azureml-sdk) (1.1.3)\n",
      "Requirement already satisfied: cffi>=1.12 in /home/sid23/jupyter/environment/lib/python3.10/site-packages (from cryptography>=1.1.0->adal<=1.2.7,>=1.2.0->azureml-core~=1.54.0->azureml-sdk) (1.16.0)\n",
      "Requirement already satisfied: distro>=1.2.0 in /home/sid23/jupyter/environment/lib/python3.10/site-packages (from dotnetcore2<4.0.0,>=3.0.0->azureml-dataprep<4.14.0a,>=4.12.0a->azureml-dataset-runtime~=1.54.0->azureml-dataset-runtime[fuse]~=1.54.0->azureml-sdk) (1.9.0)\n",
      "Requirement already satisfied: oauthlib>=3.0.0 in /home/sid23/jupyter/environment/lib/python3.10/site-packages (from requests-oauthlib>=0.5.0->msrest<=0.7.1,>=0.5.1->azureml-core~=1.54.0->azureml-sdk) (3.2.2)\n",
      "Requirement already satisfied: attrs>=22.2.0 in /home/sid23/jupyter/environment/lib/python3.10/site-packages (from jsonschema->azureml-dataprep<4.14.0a,>=4.12.0a->azureml-dataset-runtime~=1.54.0->azureml-dataset-runtime[fuse]~=1.54.0->azureml-sdk) (23.1.0)\n",
      "Requirement already satisfied: jsonschema-specifications>=2023.03.6 in /home/sid23/jupyter/environment/lib/python3.10/site-packages (from jsonschema->azureml-dataprep<4.14.0a,>=4.12.0a->azureml-dataset-runtime~=1.54.0->azureml-dataset-runtime[fuse]~=1.54.0->azureml-sdk) (2023.7.1)\n",
      "Requirement already satisfied: referencing>=0.28.4 in /home/sid23/jupyter/environment/lib/python3.10/site-packages (from jsonschema->azureml-dataprep<4.14.0a,>=4.12.0a->azureml-dataset-runtime~=1.54.0->azureml-dataset-runtime[fuse]~=1.54.0->azureml-sdk) (0.30.2)\n",
      "Requirement already satisfied: rpds-py>=0.7.1 in /home/sid23/jupyter/environment/lib/python3.10/site-packages (from jsonschema->azureml-dataprep<4.14.0a,>=4.12.0a->azureml-dataset-runtime~=1.54.0->azureml-dataset-runtime[fuse]~=1.54.0->azureml-sdk) (0.10.6)\n",
      "Requirement already satisfied: pycparser in /home/sid23/jupyter/environment/lib/python3.10/site-packages (from cffi>=1.12->cryptography>=1.1.0->adal<=1.2.7,>=1.2.0->azureml-core~=1.54.0->azureml-sdk) (2.21)\n",
      "\n",
      "\u001b[1m[\u001b[0m\u001b[34;49mnotice\u001b[0m\u001b[1;39;49m]\u001b[0m\u001b[39;49m A new release of pip is available: \u001b[0m\u001b[31;49m23.3.1\u001b[0m\u001b[39;49m -> \u001b[0m\u001b[32;49m23.3.2\u001b[0m\n",
      "\u001b[1m[\u001b[0m\u001b[34;49mnotice\u001b[0m\u001b[1;39;49m]\u001b[0m\u001b[39;49m To update, run: \u001b[0m\u001b[32;49mpip install --upgrade pip\u001b[0m\n"
     ]
    }
   ],
   "source": [
    "!pip install azureml-sdk"
   ]
  },
  {
   "cell_type": "markdown",
   "id": "bde701c0-b13c-490e-8b5d-d28f0f94828e",
   "metadata": {},
   "source": [
    "**Importing the dependencies**"
   ]
  },
  {
   "cell_type": "code",
   "execution_count": 3,
   "id": "00622403-3ce4-49a3-bf79-46b4dd35d6f0",
   "metadata": {},
   "outputs": [],
   "source": [
    "import os\n",
    "import json\n",
    "import requests\n",
    "\n",
    "from azureml.core import Workspace\n",
    "from azureml.core.model import Model\n",
    "from azureml.core.environment import Environment\n",
    "from azureml.core.conda_dependencies import CondaDependencies\n",
    "from azureml.core.model import InferenceConfig\n",
    "from azureml.core.webservice import AciWebservice, Webservice"
   ]
  },
  {
   "cell_type": "code",
   "execution_count": 4,
   "id": "20511285-c420-4366-a738-e363881489b4",
   "metadata": {},
   "outputs": [],
   "source": [
    "# laoding the configuration file - standard way - use .env file and load_dotenv from python-dotenv module\n",
    "config_file_path = \"config.json\"\n",
    "\n",
    "# Read JSON data into a dictionary\n",
    "with open(config_file_path, 'r') as file:\n",
    "    data = json.load(file)\n",
    "\n",
    "subscription_id = data[\"subscription_id\"]\n",
    "resource_group = data[\"resource_group\"]  \n",
    "workspace_name = data[\"workspace_name\"]\n",
    "region = data[\"region\"]"
   ]
  },
  {
   "cell_type": "code",
   "execution_count": 6,
   "id": "2181b4be-b18b-4f73-936c-b2df905c5c4f",
   "metadata": {},
   "outputs": [
    {
     "name": "stdout",
     "output_type": "stream",
     "text": [
      "ml-model-deployment-rg\n",
      "deploy-sklearn-model-ws\n",
      "centralindia\n"
     ]
    }
   ],
   "source": [
    "print(resource_group)\n",
    "print(workspace_name)\n",
    "print(region)"
   ]
  },
  {
   "cell_type": "markdown",
   "id": "1169e424-9325-4eae-bb4a-6cd33ff84db9",
   "metadata": {},
   "source": [
    "**Create a Resource Group from Azure Portal**"
   ]
  },
  {
   "cell_type": "code",
   "execution_count": 7,
   "id": "67ea9e3f-95be-436d-b9de-e395c093b4c6",
   "metadata": {},
   "outputs": [
    {
     "name": "stdout",
     "output_type": "stream",
     "text": [
      "Cleaning up past default Resource Group Deployments on the subscription to avoid limit of 10\n",
      "Deleting past Resource Group Deployment with name: DeployResourceGroup-44b8aada47\n",
      "Deploying StorageAccount with name deployskstorage58ab4a9af.\n",
      "Deploying KeyVault with name deployskkeyvault0cccf204.\n",
      "Deploying Workspace with name deploy-sklearn-model-ws.\n",
      "Deploying AppInsights with name deployskinsights8b6b676b.\n",
      "Deployed AppInsights with name deployskinsights8b6b676b. Took 36.98 seconds.\n",
      "Deployed Workspace with name deploy-sklearn-model-ws. Took 33.46 seconds.\n",
      "Workspace deploy-sklearn-model-ws created\n"
     ]
    }
   ],
   "source": [
    "# Create a workspace\n",
    "\n",
    "ws = Workspace.create(name=workspace_name,\n",
    "                      subscription_id=subscription_id,\n",
    "                      resource_group=resource_group,\n",
    "                      location=region)\n",
    "\n",
    "print(f'Workspace {workspace_name} created')"
   ]
  },
  {
   "cell_type": "code",
   "execution_count": 8,
   "id": "3a59b584-1f6a-4605-99a2-0d9e649d22b9",
   "metadata": {},
   "outputs": [],
   "source": [
    "# Specify the path to your  model file\n",
    "model_path = 'diabetes_model.pkl'"
   ]
  },
  {
   "cell_type": "code",
   "execution_count": 9,
   "id": "4128cd49-48bf-4a97-a931-8d7c391d7e98",
   "metadata": {},
   "outputs": [],
   "source": [
    "model_name='diabetes_prediction_model'"
   ]
  },
  {
   "cell_type": "code",
   "execution_count": 10,
   "id": "383488f6-6d86-4efc-9906-17547c6c5f53",
   "metadata": {},
   "outputs": [
    {
     "name": "stdout",
     "output_type": "stream",
     "text": [
      "Registering model diabetes_prediction_model\n"
     ]
    }
   ],
   "source": [
    "# Register the model in Azure Machine Learning\n",
    "registered_model = Model.register(model_path=model_path, model_name=model_name, workspace=ws)"
   ]
  },
  {
   "cell_type": "code",
   "execution_count": 11,
   "id": "064fbfc8-b4fd-493a-a383-1f7edb86479a",
   "metadata": {},
   "outputs": [],
   "source": [
    "# Create a Conda environment for your scikit-learn model\n",
    "conda_env = Environment('my-conda-env')\n",
    "conda_env.python.conda_dependencies = CondaDependencies.create(conda_packages=['scikit-learn'])"
   ]
  },
  {
   "cell_type": "code",
   "execution_count": 12,
   "id": "1ff71338-a9a9-4b5c-993d-4ac3091db355",
   "metadata": {},
   "outputs": [],
   "source": [
    "# Create an InferenceConfig\n",
    "inference_config = InferenceConfig(entry_script='score.py', environment=conda_env)"
   ]
  },
  {
   "cell_type": "code",
   "execution_count": 13,
   "id": "17ac0a14-c826-4331-9932-7b9d4b185749",
   "metadata": {},
   "outputs": [],
   "source": [
    "# Specify deployment configuration for ACI\n",
    "aci_config = AciWebservice.deploy_configuration(cpu_cores=1, memory_gb=1)"
   ]
  },
  {
   "cell_type": "code",
   "execution_count": 14,
   "id": "2c72d776-7f1e-49ad-8c43-f837b23e8645",
   "metadata": {},
   "outputs": [
    {
     "name": "stderr",
     "output_type": "stream",
     "text": [
      "/tmp/ipykernel_18897/3861565384.py:1: FutureWarning: azureml.core.model:\n",
      "To leverage new model deployment capabilities, AzureML recommends using CLI/SDK v2 to deploy models as online endpoint, \n",
      "please refer to respective documentations \n",
      "https://docs.microsoft.com/azure/machine-learning/how-to-deploy-managed-online-endpoints /\n",
      "https://docs.microsoft.com/azure/machine-learning/how-to-attach-kubernetes-anywhere \n",
      "For more information on migration, see https://aka.ms/acimoemigration \n",
      "To disable CLI/SDK v1 deprecation warning set AZUREML_LOG_DEPRECATION_WARNING_ENABLED to 'False'\n",
      "  service = Model.deploy(workspace=ws,\n"
     ]
    },
    {
     "name": "stdout",
     "output_type": "stream",
     "text": [
      "Tips: You can try get_logs(): https://aka.ms/debugimage#dockerlog or local deployment: https://aka.ms/debugimage#debug-locally to debug if deployment takes longer than 10 minutes.\n",
      "Running\n",
      "2024-01-07 13:25:51+05:30 Creating Container Registry if not exists..\n",
      "2024-01-07 13:35:51+05:30 Registering the environment..\n",
      "2024-01-07 13:35:55+05:30 Building image..\n",
      "2024-01-07 13:46:10+05:30 Generating deployment configuration.\n",
      "2024-01-07 13:46:11+05:30 Submitting deployment to compute..\n",
      "2024-01-07 13:46:19+05:30 Checking the status of deployment diabetes-prediction-service..\n",
      "2024-01-07 13:48:02+05:30 Checking the status of inference endpoint diabetes-prediction-service.\n",
      "Succeeded\n",
      "ACI service creation operation finished, operation \"Succeeded\"\n"
     ]
    }
   ],
   "source": [
    "service = Model.deploy(workspace=ws,\n",
    "                       name='diabetes-prediction-service',\n",
    "                       models=[registered_model],\n",
    "                       inference_config=inference_config,\n",
    "                       deployment_config=aci_config)\n",
    "service.wait_for_deployment(show_output=True)"
   ]
  },
  {
   "cell_type": "code",
   "execution_count": 15,
   "id": "69efb038-ad52-46d0-9f17-5acd96151214",
   "metadata": {},
   "outputs": [],
   "source": [
    "scoring_uri = service.scoring_uri"
   ]
  },
  {
   "cell_type": "code",
   "execution_count": 16,
   "id": "731b0f84-6e1a-4cc9-9497-e958f6efbd73",
   "metadata": {},
   "outputs": [
    {
     "data": {
      "text/plain": [
       "'http://82a1dd63-7ec8-49e6-8668-c222ce56cb2e.centralindia.azurecontainer.io/score'"
      ]
     },
     "execution_count": 16,
     "metadata": {},
     "output_type": "execute_result"
    }
   ],
   "source": [
    "scoring_uri"
   ]
  },
  {
   "cell_type": "markdown",
   "id": "d5cafb79-2702-4203-977d-4181247fcbd5",
   "metadata": {},
   "source": [
    "**Cleaning up all the created resources**"
   ]
  },
  {
   "cell_type": "code",
   "execution_count": 17,
   "id": "a1895e4a-551d-4472-99bb-8bc2993c699a",
   "metadata": {},
   "outputs": [],
   "source": [
    "# Delete the service\n",
    "\n",
    "service_name = \"diabetes-prediction-service\"\n",
    "\n",
    "service = ws.webservices[service_name]\n",
    "service.delete()"
   ]
  },
  {
   "cell_type": "code",
   "execution_count": 18,
   "id": "1f1e57ad-478c-4aed-b33a-08bf3f09632c",
   "metadata": {},
   "outputs": [],
   "source": [
    "# Specify the name of the registered model to delete\n",
    "model_name = 'diabetes_prediction_model'\n",
    "\n",
    "# Delete the model\n",
    "registered_model = ws.models[model_name]\n",
    "registered_model.delete()\n"
   ]
  },
  {
   "cell_type": "code",
   "execution_count": 19,
   "id": "84733dc8-3ddf-47a2-a906-644946a3a888",
   "metadata": {},
   "outputs": [],
   "source": [
    "# Delete the workspace\n",
    "ws.delete(delete_dependent_resources=True)"
   ]
  },
  {
   "cell_type": "code",
   "execution_count": null,
   "id": "ef508ef4-3c96-401a-886c-56b714becc34",
   "metadata": {},
   "outputs": [],
   "source": []
  },
  {
   "cell_type": "code",
   "execution_count": null,
   "id": "7e34d373-e7ab-436c-beff-f0b4294f6371",
   "metadata": {},
   "outputs": [],
   "source": []
  },
  {
   "cell_type": "code",
   "execution_count": null,
   "id": "07efd612-03cb-4b53-8958-8b418de56d7c",
   "metadata": {},
   "outputs": [],
   "source": []
  },
  {
   "cell_type": "markdown",
   "id": "53f91c0a-bad4-4131-9d3a-27901d17e0a8",
   "metadata": {},
   "source": [
    "1. Azure Account with appropriate subscription\n",
    "2. Configuration file that has subscription_id and other details like resource_group name, etc\n",
    "3. Create a resource group from Azure Portal\n",
    "4. Create a workspace\n",
    "5. Register the model in container registry\n",
    "6. Deploy the model as endpoint\n",
    "7. Once done, delete the created resources"
   ]
  },
  {
   "cell_type": "code",
   "execution_count": null,
   "id": "d2588a05-78bf-45f6-8ef2-230e2f116ba0",
   "metadata": {},
   "outputs": [],
   "source": []
  }
 ],
 "metadata": {
  "kernelspec": {
   "display_name": "Python 3 (ipykernel)",
   "language": "python",
   "name": "python3"
  },
  "language_info": {
   "codemirror_mode": {
    "name": "ipython",
    "version": 3
   },
   "file_extension": ".py",
   "mimetype": "text/x-python",
   "name": "python",
   "nbconvert_exporter": "python",
   "pygments_lexer": "ipython3",
   "version": "3.10.12"
  }
 },
 "nbformat": 4,
 "nbformat_minor": 5
}
